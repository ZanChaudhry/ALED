{
 "cells": [
  {
   "cell_type": "code",
   "execution_count": 1,
   "id": "e600d897",
   "metadata": {},
   "outputs": [],
   "source": [
    "# Load dataset\n",
    "\n",
    "import torch\n",
    "device = torch.device('cuda' if torch.cuda.is_available() else 'cpu')\n",
    "from torchvision import datasets\n",
    "import torchvision.transforms as transforms\n",
    "\n",
    "train_data = datasets.MNIST(\n",
    "    root = 'data',\n",
    "    train = True,\n",
    "    transform = transforms.Compose([transforms.ToTensor(), transforms.Normalize((0.1307,), (0.3081,))]),\n",
    "    download = True,\n",
    ")\n",
    "test_data = datasets.MNIST(\n",
    "    root = 'data',\n",
    "    train = False,\n",
    "    transform = transforms.Compose([transforms.ToTensor(), transforms.Normalize((0.1307,), (0.3081,))])\n",
    ")"
   ]
  },
  {
   "cell_type": "code",
   "execution_count": 2,
   "id": "98301007",
   "metadata": {},
   "outputs": [],
   "source": [
    "# Define model architecture\n",
    "\n",
    "import torch.nn as nn\n",
    "class CNN(nn.Module):\n",
    "    def __init__(self, out_num):\n",
    "        super(CNN, self).__init__()\n",
    "        self.conv1 = nn.Sequential(\n",
    "            nn.Conv2d(\n",
    "                in_channels=1,\n",
    "                out_channels=16,\n",
    "                kernel_size=5,\n",
    "                stride=1,\n",
    "                padding=2,\n",
    "            ),\n",
    "            nn.ReLU(),\n",
    "            nn.MaxPool2d(kernel_size=2),\n",
    "        )\n",
    "        self.conv2 = nn.Sequential(\n",
    "            nn.Conv2d(16, 32, 5, 1, 2),\n",
    "            nn.ReLU(),\n",
    "            nn.MaxPool2d(2),\n",
    "        )\n",
    "        # fully connected layer, output out_num values\n",
    "        self.out = nn.Sequential(\n",
    "            nn.Linear(32 * 7 * 7, out_num),\n",
    "        )\n",
    "    def forward(self, x):\n",
    "        x = self.conv1(x)\n",
    "        x = self.conv2(x)\n",
    "        # flatten the output of conv2 to (batch_size, 32 * 7 * 7)\n",
    "        x = x.view(x.size(0), -1)\n",
    "        output = self.out(x)\n",
    "        return output"
   ]
  },
  {
   "cell_type": "code",
   "execution_count": 3,
   "id": "77e4c87b",
   "metadata": {},
   "outputs": [],
   "source": [
    "# Model helper functions\n",
    "\n",
    "import numpy as np\n",
    "\n",
    "def generate(model, loaders):\n",
    "\n",
    "    model.eval()\n",
    "\n",
    "    # Generate outputs from random model\n",
    "    total_step = len(loaders['train'])\n",
    "    with torch.no_grad():\n",
    "        for i, (images, labels) in enumerate(loaders['train']):\n",
    "            try:\n",
    "                output = model(images)\n",
    "            except:\n",
    "                output = model(images.unsqueeze(1).float())\n",
    "            yield output\n",
    "\n",
    "def create_dataset_labels(outputs_generator):\n",
    "    outputs_list = []\n",
    "    for output in outputs_generator:\n",
    "        outputs_list.append(output)\n",
    "    outputs_tensor = torch.cat(outputs_list).squeeze()\n",
    "    return outputs_tensor"
   ]
  },
  {
   "cell_type": "code",
   "execution_count": 4,
   "id": "ba1ec20e",
   "metadata": {},
   "outputs": [],
   "source": [
    "# Create mislabeling dataset class\n",
    "\n",
    "from sklearn.utils.multiclass import unique_labels\n",
    "from torch.utils.data import Dataset\n",
    "import copy\n",
    "\n",
    "class Mislabeling_Dataset(Dataset):\n",
    "    \"\"\"\n",
    "    a Dataset class that contains a Dataset, providing the data of the internal Dataset\n",
    "    but with labeling errors\n",
    "    \"\"\"\n",
    "    def __init__(self, internal_dataset, internal_dataset_labels = None, fraction_mislabeled = 0.1, random_state = None):\n",
    "\n",
    "        super().__init__()\n",
    "        self.internal_dataset = copy.deepcopy(internal_dataset)\n",
    "        self.true_labels = copy.deepcopy(internal_dataset_labels)\n",
    "        if self.true_labels is None:\n",
    "            self.set_true_labels()\n",
    "        elif len(self.true_labels) != len(internal_dataset):\n",
    "          raise Exception(\"Must have same number of labels as the length of the dataset [i.e. len(internal_dataset_labels) == len(internal_dataset)]\")\n",
    "        self.classes = unique_labels(self.true_labels)\n",
    "        self.fraction_mislabeled = fraction_mislabeled\n",
    "        self.rng = np.random.default_rng(random_state)\n",
    "        # could potentially add a parameter to choose what method to mislabel (e.g., completely random, half mislabeled from each class)\n",
    "\n",
    "\n",
    "        self.mislabel_sample_inds = self.rng.choice(np.arange(len(self.internal_dataset)), \\\n",
    "                                                    size=int(self.fraction_mislabeled*len(internal_dataset)), \\\n",
    "                                                    replace=False)\n",
    "        mislabel_maps = [[class_j for class_j in self.classes if class_j != class_i] for class_i in self.classes]\n",
    "\n",
    "        self.labels = copy.deepcopy(self.true_labels)\n",
    "        for ind in self.mislabel_sample_inds:\n",
    "            self.labels[ind] = mislabel_maps[self.true_labels[ind]][self.rng.integers(len(self.classes)-1)]\n",
    "\n",
    "\n",
    "    def set_true_labels(self):\n",
    "        # helper function used by __init__()\n",
    "        self.true_labels = np.zeros(len(self.internal_dataset), dtype=object)\n",
    "        for i in range(len(self.internal_dataset)):\n",
    "            self.true_labels[i] = self.internal_dataset[i][1]\n",
    "\n",
    "    def __getitem__(self, idx):\n",
    "        return self.internal_dataset[idx][0], self.labels[idx].item()\n",
    "\n",
    "    def __len__(self):\n",
    "        return len(self.internal_dataset)"
   ]
  },
  {
   "cell_type": "code",
   "execution_count": 5,
   "id": "279fdfb9",
   "metadata": {},
   "outputs": [],
   "source": [
    "# Create mislabled dataset\n",
    "\n",
    "mislabeled_train_data = Mislabeling_Dataset(train_data, internal_dataset_labels=train_data.targets, \\\n",
    "                                            fraction_mislabeled=0.1, random_state=0)"
   ]
  },
  {
   "cell_type": "code",
   "execution_count": 6,
   "id": "0094495a",
   "metadata": {},
   "outputs": [],
   "source": [
    "# Optimizer\n",
    "\n",
    "from torch import optim\n",
    "\n",
    "loss_func = nn.CrossEntropyLoss()"
   ]
  },
  {
   "cell_type": "code",
   "execution_count": 7,
   "id": "832b4bb8",
   "metadata": {},
   "outputs": [],
   "source": [
    "# Define training functioning\n",
    "\n",
    "from torch.autograd import Variable\n",
    "num_epochs = 1\n",
    "\n",
    "def train_CNN(num_epochs, cnn, loaders, optimizer):\n",
    "\n",
    "    cnn.train()\n",
    "\n",
    "    # Train the model\n",
    "    total_step = len(loaders['train'])\n",
    "\n",
    "    for epoch in range(num_epochs):\n",
    "        for i, (images, labels) in enumerate(loaders['train']):\n",
    "\n",
    "            # gives batch data, normalize x when iterate train_loader\n",
    "            b_x = Variable(images)   # batch x\n",
    "            b_y = Variable(labels)   # batch y\n",
    "            output = cnn(b_x)\n",
    "            loss = loss_func(output, b_y)\n",
    "\n",
    "            # clear gradients for this training step\n",
    "            optimizer.zero_grad()\n",
    "\n",
    "            # backpropagation, compute gradients\n",
    "            loss.backward()\n",
    "            # apply gradients\n",
    "            optimizer.step()\n",
    "\n",
    "            if (i+1) % 100 == 0:\n",
    "                print ('Epoch [{}/{}], Step [{}/{}], Loss: {:.4f}'\n",
    "                       .format(epoch + 1, num_epochs, i + 1, total_step, loss.item()))"
   ]
  },
  {
   "cell_type": "code",
   "execution_count": 71,
   "id": "6a621c5a",
   "metadata": {},
   "outputs": [],
   "source": [
    "# Useful functions\n",
    "\n",
    "import matplotlib.pyplot as plt\n",
    "def calc_std_ratios(clean_df, mislabeled_df, mislabeled_dict, clean_dict):\n",
    "    ratios_list = []\n",
    "    ratios_dict = {}\n",
    "    for n in range(len(clean_dict.keys())):\n",
    "        ratios_dict[n] = np.std(np.sort(mislabeled_df[n].values) \\\n",
    "                                [:(len(mislabeled_df[n].values) - mislabeled_dict[n])]) / \\\n",
    "                         np.std(np.sort(clean_df[n].values) \\\n",
    "                                [:(len(clean_df[n].values) - clean_dict[n])])\n",
    "        ratios_list.append(ratios_dict[n])\n",
    "    return np.mean(ratios_list), ratios_dict\n",
    "\n",
    "def calc_means(mislabeled_df, mislabeled_dict):\n",
    "    means_list = []\n",
    "    means_dict = {}\n",
    "    for n in range(len(mislabeled_df.columns)):\n",
    "        means_dict[n] = np.mean(np.sort(mislabeled_df[n].values) \\\n",
    "                                [:(len(mislabeled_df[n].values) - mislabeled_dict[n])])\n",
    "        means_list.append(means_dict[n])\n",
    "    return np.mean(means_list), means_dict\n",
    "\n",
    "def calc_overall_mean(mislabeled_df):\n",
    "    mislabeled_array = mislabeled_df.to_numpy()\n",
    "    new_shape = np.prod(mislabeled_array.shape)\n",
    "    reshaped_array = np.reshape(mislabeled_array, new_shape)\n",
    "    mean_ = np.mean(np.sort(reshaped_array)[:(len(reshaped_array) - mislabeled_array.shape[0])])\n",
    "    return mean_\n",
    "\n",
    "def softmaxed_outputs_array(model, loaders):\n",
    "    model_outputs = create_dataset_labels(generate(model, loaders))\n",
    "    m = nn.Softmax(dim=1)\n",
    "    softmaxed_array = m(model_outputs).numpy()\n",
    "    return softmaxed_array\n",
    "\n",
    "def outputs_hist(data_array, model_title, single=False):\n",
    "    if not single:\n",
    "        for col in range(data_array.shape[1]):\n",
    "            plt.figure()\n",
    "            plt.hist(data_array[:,col], bins=100)\n",
    "            plt.title(\"outputs for class {}, {}\".format(col, model_title))\n",
    "            plt.xlabel(\"value\")\n",
    "            plt.ylabel(\"counts\")\n",
    "            plt.show()\n",
    "    else:\n",
    "        new_shape = np.prod(data_array.shape)\n",
    "        reshaped_data = np.reshape(data_array, new_shape)\n",
    "        plt.figure()\n",
    "        plt.hist(reshaped_data, bins=100)\n",
    "        plt.title(\"outputs for all classes, {}\".format(model_title))\n",
    "        plt.xlabel(\"value\")\n",
    "        plt.ylabel(\"counts\")\n",
    "        plt.show()\n",
    "\n",
    "def num_mislabeled_dict(dataset):\n",
    "    num_samples_dict = {}\n",
    "    for class_ in range(len(dataset.classes)):\n",
    "        try:\n",
    "            num_samples_dict[class_] = sum(dataset.labels.numpy() == class_)\n",
    "        except:\n",
    "            num_samples_dict[class_] = sum(dataset.targets.numpy() == class_)\n",
    "    return num_samples_dict\n",
    "\n",
    "def calc_ideal_dist(dataset, bins):\n",
    "    num_ones = len(dataset)\n",
    "    num_zeros = num_ones * (len(dataset.classes) - 1)\n",
    "    counts = np.zeros(bins)\n",
    "    counts[0] = num_zeros\n",
    "    counts[-1] = num_ones\n",
    "    return counts\n",
    "\n",
    "def angular_similarity(vec1, vec2):\n",
    "    cosine_similarity = np.dot(vec1, vec2) / ( np.linalg.norm(vec1) * np.linalg.norm(vec2) )\n",
    "    angular_distance = np.arccos(cosine_similarity) / np.pi\n",
    "    similarity = 1 - angular_distance\n",
    "    return similarity"
   ]
  },
  {
   "cell_type": "code",
   "execution_count": 26,
   "id": "83082969",
   "metadata": {},
   "outputs": [],
   "source": [
    "# Let's go again with a different percentage and define a function to help out\n",
    "\n",
    "def mislabeling_statistics(error_percentage, training_dataset, clean_df, clean_dict, epochs, plot=False):\n",
    "    mislabeled_dataset = Mislabeling_Dataset(training_dataset, internal_dataset_labels=training_dataset.targets, \\\n",
    "                                             fraction_mislabeled=error_percentage, random_state=0)\n",
    "    model_mislabeled_stats = CNN(len(training_dataset.classes))\n",
    "    optimizer_mislabeled_stats = optim.Adam(model_mislabeled_stats.parameters(), lr = 0.01)\n",
    "    loaders_mislabeled_stats = {\n",
    "    'train' : torch.utils.data.DataLoader(mislabeled_dataset,\n",
    "                                          batch_size=100,\n",
    "                                          shuffle=False,\n",
    "                                          num_workers=0),\n",
    "\n",
    "    'test' : torch.utils.data.DataLoader(training_dataset,\n",
    "                                          batch_size=100,\n",
    "                                          shuffle=True,\n",
    "                                          num_workers=0),\n",
    "    }\n",
    "    print(\"training {}% mislabeled model\".format(error_percentage*100))\n",
    "    train_CNN(epochs, model_mislabeled_stats, loaders_mislabeled_stats, optimizer_mislabeled_stats)\n",
    "    outputs_mislabeled_stats = softmaxed_outputs_array(model_mislabeled_stats, loaders_mislabeled_stats)\n",
    "    if plot:\n",
    "        outputs_hist(outputs_mislabeled_stats, \"{}% mislabeled model\".format(error_percentage*100), single=True)\n",
    "    mislabeled_stats_df = pd.DataFrame(outputs_mislabeled_stats)\n",
    "    mislabeled_stats_dict = num_mislabeled_dict(mislabeled_dataset)\n",
    "    mean_std_out, std_dict_out = calc_std_ratios(clean_df, mislabeled_stats_df, mislabeled_stats_dict, clean_dict)\n",
    "    mean_out, mean_dict_out = calc_means(mislabeled_stats_df, mislabeled_stats_dict)\n",
    "    overall_mean = calc_overall_mean(mislabeled_stats_df)\n",
    "    print(overall_mean, \"\\n\")\n",
    "    del model_mislabeled_stats\n",
    "    return mean_out, mean_dict_out, mean_std_out, std_dict_out, overall_mean"
   ]
  },
  {
   "cell_type": "code",
   "execution_count": 72,
   "id": "914ddb02",
   "metadata": {},
   "outputs": [],
   "source": [
    "# Let's do something with cosine similarity of the distributions now\n",
    "\n",
    "def mislabeling_dist_similarity(error_percentage, training_dataset, epochs, num_bins, plot=False):\n",
    "    mislabeled_dataset = Mislabeling_Dataset(training_dataset, internal_dataset_labels=training_dataset.targets, \\\n",
    "                                             fraction_mislabeled=error_percentage, random_state=0)\n",
    "    model_mislabeled_stats = CNN(len(training_dataset.classes)).to(device)\n",
    "    optimizer_mislabeled_stats = optim.Adam(model_mislabeled_stats.parameters(), lr = 0.01)\n",
    "    loaders_mislabeled_stats = {\n",
    "    'train' : torch.utils.data.DataLoader(mislabeled_dataset,\n",
    "                                          batch_size=100,\n",
    "                                          shuffle=False,\n",
    "                                          num_workers=0),\n",
    "\n",
    "    'test' : torch.utils.data.DataLoader(training_dataset,\n",
    "                                          batch_size=100,\n",
    "                                          shuffle=True,\n",
    "                                          num_workers=0),\n",
    "    }\n",
    "    print(\"training {}% mislabeled model\".format(error_percentage*100))\n",
    "    train_CNN(epochs, model_mislabeled_stats, loaders_mislabeled_stats, optimizer_mislabeled_stats)\n",
    "    outputs_mislabeled_stats = softmaxed_outputs_array(model_mislabeled_stats, loaders_mislabeled_stats)\n",
    "    if plot:\n",
    "        outputs_hist(outputs_mislabeled_stats, \"{}% mislabeled model\".format(error_percentage*100), single=True)\n",
    "    outputs_mislabeled_vector = np.reshape(outputs_mislabeled_stats, np.prod(outputs_mislabeled_stats.shape))\n",
    "    counts, bins = np.histogram(outputs_mislabeled_vector, bins=num_bins)\n",
    "    ideal_counts = calc_ideal_dist(training_dataset, bins=num_bins)\n",
    "    \n",
    "    # Calculate similarity between sample distribution and ideal distribution\n",
    "    similarity = angular_similarity(counts, ideal_counts)\n",
    "    \n",
    "    del model_mislabeled_stats\n",
    "    print(\"Similarity to Ideal:\", similarity, \"\\n\")\n",
    "    \n",
    "    return similarity"
   ]
  },
  {
   "cell_type": "code",
   "execution_count": 75,
   "id": "79c5faf6",
   "metadata": {},
   "outputs": [],
   "source": [
    "# Let's try a bunch of different error percentages\n",
    "\n",
    "def error_percentage_looper(bound1, bound2, plot=True):\n",
    "    error_percent_list = []\n",
    "    similarity_list = []\n",
    "    \n",
    "    for n in range(bound1, bound2+1):\n",
    "        if plot:\n",
    "            similarity = mislabeling_dist_similarity(n/100, train_data, epochs=1, plot=True, num_bins=100)\n",
    "        else:\n",
    "            similarity = mislabeling_dist_similarity(n/100, train_data, epochs=1, plot=False, num_bins=100)\n",
    "        error_percent_list.append(n/100)\n",
    "        similarity_list.append(similarity)\n",
    "    return error_percent_list, similarity_list"
   ]
  },
  {
   "cell_type": "code",
   "execution_count": 76,
   "id": "52346972",
   "metadata": {},
   "outputs": [],
   "source": [
    "def multi_looper(bound1, bound2, num_trials, plot=True):\n",
    "    trials_dict = {}\n",
    "    for n in range(num_trials):\n",
    "        if plot:\n",
    "            list_1, list_2 = error_percentage_looper(bound1, bound2)\n",
    "        else:\n",
    "            list_1, list_2 = error_percentage_looper(bound1, bound2, plot=False)\n",
    "        data_array = np.array([list_1, list_2]).transpose()\n",
    "        trials_dict[\"trial {}\".format((n+1))] = data_array\n",
    "    return trials_dict"
   ]
  },
  {
   "cell_type": "code",
   "execution_count": null,
   "id": "b710d954",
   "metadata": {},
   "outputs": [
    {
     "name": "stdout",
     "output_type": "stream",
     "text": [
      "training 0.0% mislabeled model\n",
      "Epoch [1/1], Step [100/600], Loss: 0.0786\n",
      "Epoch [1/1], Step [200/600], Loss: 0.0719\n",
      "Epoch [1/1], Step [300/600], Loss: 0.1045\n",
      "Epoch [1/1], Step [400/600], Loss: 0.0385\n",
      "Epoch [1/1], Step [500/600], Loss: 0.1360\n",
      "Epoch [1/1], Step [600/600], Loss: 0.3120\n"
     ]
    },
    {
     "data": {
      "image/png": "[encoded data removed]",
      "text/plain": [
       "<Figure size 432x288 with 1 Axes>"
      ]
     },
     "metadata": {
      "needs_background": "light"
     },
     "output_type": "display_data"
    },
    {
     "name": "stdout",
     "output_type": "stream",
     "text": [
      "Similarity to Ideal: 0.9963771143067462 \n",
      "\n",
      "training 1.0% mislabeled model\n",
      "Epoch [1/1], Step [100/600], Loss: 0.1236\n",
      "Epoch [1/1], Step [200/600], Loss: 0.0928\n",
      "Epoch [1/1], Step [300/600], Loss: 0.4106\n",
      "Epoch [1/1], Step [400/600], Loss: 0.3772\n",
      "Epoch [1/1], Step [500/600], Loss: 0.3626\n",
      "Epoch [1/1], Step [600/600], Loss: 0.3168\n"
     ]
    },
    {
     "data": {
      "image/png": "[encoded data removed]",
      "text/plain": [
       "<Figure size 432x288 with 1 Axes>"
      ]
     },
     "metadata": {
      "needs_background": "light"
     },
     "output_type": "display_data"
    },
    {
     "name": "stdout",
     "output_type": "stream",
     "text": [
      "Similarity to Ideal: 0.9760647805632997 \n",
      "\n",
      "training 2.0% mislabeled model\n",
      "Epoch [1/1], Step [100/600], Loss: 0.3988\n",
      "Epoch [1/1], Step [200/600], Loss: 0.1618\n",
      "Epoch [1/1], Step [300/600], Loss: 0.2945\n",
      "Epoch [1/1], Step [400/600], Loss: 0.2315\n",
      "Epoch [1/1], Step [500/600], Loss: 0.2366\n",
      "Epoch [1/1], Step [600/600], Loss: 0.2517\n"
     ]
    },
    {
     "data": {
      "image/png": "[encoded data removed]",
      "text/plain": [
       "<Figure size 432x288 with 1 Axes>"
      ]
     },
     "metadata": {
      "needs_background": "light"
     },
     "output_type": "display_data"
    },
    {
     "name": "stdout",
     "output_type": "stream",
     "text": [
      "Similarity to Ideal: 0.9731228783095097 \n",
      "\n",
      "training 3.0% mislabeled model\n",
      "Epoch [1/1], Step [100/600], Loss: 0.3184\n",
      "Epoch [1/1], Step [200/600], Loss: 0.1965\n",
      "Epoch [1/1], Step [300/600], Loss: 0.8456\n",
      "Epoch [1/1], Step [400/600], Loss: 0.3188\n",
      "Epoch [1/1], Step [500/600], Loss: 0.4985\n",
      "Epoch [1/1], Step [600/600], Loss: 0.3009\n"
     ]
    },
    {
     "data": {
      "image/png": "[encoded data removed]",
      "text/plain": [
       "<Figure size 432x288 with 1 Axes>"
      ]
     },
     "metadata": {
      "needs_background": "light"
     },
     "output_type": "display_data"
    },
    {
     "name": "stdout",
     "output_type": "stream",
     "text": [
      "Similarity to Ideal: 0.9559098259975606 \n",
      "\n",
      "training 4.0% mislabeled model\n",
      "Epoch [1/1], Step [100/600], Loss: 0.3891\n",
      "Epoch [1/1], Step [200/600], Loss: 0.4045\n",
      "Epoch [1/1], Step [300/600], Loss: 0.9055\n",
      "Epoch [1/1], Step [400/600], Loss: 0.3312\n",
      "Epoch [1/1], Step [500/600], Loss: 0.5060\n",
      "Epoch [1/1], Step [600/600], Loss: 0.3960\n"
     ]
    },
    {
     "data": {
      "image/png": "[encoded data removed]",
      "text/plain": [
       "<Figure size 432x288 with 1 Axes>"
      ]
     },
     "metadata": {
      "needs_background": "light"
     },
     "output_type": "display_data"
    },
    {
     "name": "stdout",
     "output_type": "stream",
     "text": [
      "Similarity to Ideal: 0.9522693214865771 \n",
      "\n",
      "training 5.0% mislabeled model\n",
      "Epoch [1/1], Step [100/600], Loss: 0.3514\n",
      "Epoch [1/1], Step [200/600], Loss: 0.6231\n",
      "Epoch [1/1], Step [300/600], Loss: 0.8271\n",
      "Epoch [1/1], Step [400/600], Loss: 0.3320\n",
      "Epoch [1/1], Step [500/600], Loss: 0.6305\n",
      "Epoch [1/1], Step [600/600], Loss: 0.5109\n"
     ]
    },
    {
     "data": {
      "image/png": "[encoded data removed]",
      "text/plain": [
       "<Figure size 432x288 with 1 Axes>"
      ]
     },
     "metadata": {
      "needs_background": "light"
     },
     "output_type": "display_data"
    },
    {
     "name": "stdout",
     "output_type": "stream",
     "text": [
      "Similarity to Ideal: 0.9510091342460737 \n",
      "\n",
      "training 6.0% mislabeled model\n",
      "Epoch [1/1], Step [100/600], Loss: 0.5173\n",
      "Epoch [1/1], Step [200/600], Loss: 0.6276\n",
      "Epoch [1/1], Step [300/600], Loss: 0.9936\n",
      "Epoch [1/1], Step [400/600], Loss: 0.3708\n",
      "Epoch [1/1], Step [500/600], Loss: 0.5653\n"
     ]
    }
   ],
   "source": [
    "plot = True\n",
    "bound1 = 0\n",
    "bound2 = 40\n",
    "num_trials = 25\n",
    "trials_dict = {}\n",
    "\n",
    "for n in range(num_trials):\n",
    "    if plot:\n",
    "        list_1, list_2 = error_percentage_looper(bound1, bound2)\n",
    "    else:\n",
    "        list_1, list_2 = error_percentage_looper(bound1, bound2, plot=False)\n",
    "    data_array = np.array([list_1, list_2]).transpose()\n",
    "    trials_dict[\"trial {}\".format((n+1))] = data_array"
   ]
  },
  {
   "cell_type": "code",
   "execution_count": 49,
   "id": "9f8d45b4",
   "metadata": {},
   "outputs": [],
   "source": [
    "remove_list = [22, 23, 27, 29, 32, 34]\n",
    "\n",
    "list_1_copy = np.delete(list_1, remove_list)\n",
    "list_2_copy = np.delete(list_2, remove_list)"
   ]
  },
  {
   "cell_type": "code",
   "execution_count": 54,
   "id": "ea9622a1",
   "metadata": {},
   "outputs": [
    {
     "data": {
      "image/png": "[encoded data removed]",
      "text/plain": [
       "<Figure size 432x288 with 1 Axes>"
      ]
     },
     "metadata": {
      "needs_background": "light"
     },
     "output_type": "display_data"
    }
   ],
   "source": [
    "plt.figure()\n",
    "plt.plot(list_1_copy, list_2_copy)\n",
    "plt.title(\"Angular Similarity Between Softmaxed Outputs Distribution and Ideal Classifier Distribution Over \\\n",
    "Mislabeling Fraction\")\n",
    "plt.xlabel(\"Mislabeling Fraction\")\n",
    "plt.ylabel(\"Angular Similarity\")\n",
    "plt.show()"
   ]
  },
  {
   "cell_type": "code",
   "execution_count": null,
   "id": "f5cefe87",
   "metadata": {},
   "outputs": [],
   "source": []
  },
  {
   "cell_type": "code",
   "execution_count": null,
   "id": "bbf93855",
   "metadata": {},
   "outputs": [],
   "source": []
  },
  {
   "cell_type": "code",
   "execution_count": null,
   "id": "f817addc",
   "metadata": {},
   "outputs": [],
   "source": []
  },
  {
   "cell_type": "code",
   "execution_count": null,
   "id": "a3584163",
   "metadata": {},
   "outputs": [],
   "source": []
  }
 ],
 "metadata": {
  "kernelspec": {
   "display_name": "Python 3",
   "language": "python",
   "name": "python3"
  },
  "language_info": {
   "codemirror_mode": {
    "name": "ipython",
    "version": 3
   },
   "file_extension": ".py",
   "mimetype": "text/x-python",
   "name": "python",
   "nbconvert_exporter": "python",
   "pygments_lexer": "ipython3",
   "version": "3.8.8"
  }
 },
 "nbformat": 4,
 "nbformat_minor": 5
}
